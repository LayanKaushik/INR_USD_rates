{
 "cells": [
  {
   "cell_type": "code",
   "execution_count": 2,
   "metadata": {},
   "outputs": [
    {
     "ename": "KeyboardInterrupt",
     "evalue": "",
     "output_type": "error",
     "traceback": [
      "\u001b[1;31m---------------------------------------------------------------------------\u001b[0m",
      "\u001b[1;31mKeyboardInterrupt\u001b[0m                         Traceback (most recent call last)",
      "Cell \u001b[1;32mIn[2], line 40\u001b[0m\n\u001b[0;32m     38\u001b[0m \u001b[39mwhile\u001b[39;00m \u001b[39mTrue\u001b[39;00m:\n\u001b[0;32m     39\u001b[0m     schedule\u001b[39m.\u001b[39mrun_pending()\n\u001b[1;32m---> 40\u001b[0m     time\u001b[39m.\u001b[39;49msleep(\u001b[39m1\u001b[39;49m)\n",
      "\u001b[1;31mKeyboardInterrupt\u001b[0m: "
     ]
    }
   ],
   "source": [
    "import smtplib\n",
    "import schedule\n",
    "import time\n",
    "import requests\n",
    "from email.mime.multipart import MIMEMultipart\n",
    "from email.mime.text import MIMEText\n",
    "\n",
    "def get_exchange_rate():\n",
    "    response = requests.get('https://api.exchangeratesapi.io/latest?base=USD')\n",
    "    data = response.json()\n",
    "    return data['rates']['INR']\n",
    "\n",
    "def send_email(rate):\n",
    "    msg = MIMEMultipart()\n",
    "    msg['From'] = 'your-email@gmail.com'\n",
    "    msg['To'] = 'your-email@gmail.com'\n",
    "    msg['Subject'] = 'Current USD to INR Exchange Rate'\n",
    "    body = f'The current exchange rate from USD to INR is {rate}.'\n",
    "    msg.attach(MIMEText(body, 'plain'))\n",
    "\n",
    "    server = smtplib.SMTP('smtp.gmail.com', 587)\n",
    "    server.starttls()  # Secure the connection\n",
    "    server.login(msg['From'], 'your-password')  # Login with your email and password\n",
    "\n",
    "    server.send_message(msg)\n",
    "    server.quit()\n",
    "\n",
    "def job():\n",
    "    rate = get_exchange_rate()\n",
    "    send_email(rate)\n",
    "\n",
    "schedule.every().monday.at(\"08:00\").do(job)\n",
    "schedule.every().tuesday.at(\"08:00\").do(job)\n",
    "schedule.every().wednesday.at(\"08:00\").do(job)\n",
    "schedule.every().thursday.at(\"08:00\").do(job)\n",
    "schedule.every().friday.at(\"08:00\").do(job)\n",
    "\n",
    "while True:\n",
    "    schedule.run_pending()\n",
    "    time.sleep(1)\n"
   ]
  }
 ],
 "metadata": {
  "kernelspec": {
   "display_name": "Python 3",
   "language": "python",
   "name": "python3"
  },
  "language_info": {
   "codemirror_mode": {
    "name": "ipython",
    "version": 3
   },
   "file_extension": ".py",
   "mimetype": "text/x-python",
   "name": "python",
   "nbconvert_exporter": "python",
   "pygments_lexer": "ipython3",
   "version": "3.10.10"
  },
  "orig_nbformat": 4
 },
 "nbformat": 4,
 "nbformat_minor": 2
}
