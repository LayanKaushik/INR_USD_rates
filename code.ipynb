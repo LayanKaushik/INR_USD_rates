{
 "cells": [
  {
   "cell_type": "code",
   "execution_count": null,
   "metadata": {},
   "outputs": [],
   "source": "import smtplib\nimport schedule\nimport time\nimport requests\nimport os\nimport logging\nfrom email.mime.multipart import MIMEMultipart\nfrom email.mime.text import MIMEText\nfrom datetime import datetime\n\n# Set up logging\nlogging.basicConfig(level=logging.INFO, format='%(asctime)s - %(levelname)s - %(message)s')\nlogger = logging.getLogger(__name__)\n\ndef get_exchange_rate():\n    \"\"\"Get current USD to INR exchange rate using a free API\"\"\"\n    try:\n        # Using exchangerate-api.com which is free and reliable\n        response = requests.get('https://api.exchangerate-api.com/v4/latest/USD', timeout=10)\n        response.raise_for_status()\n        data = response.json()\n        rate = data['rates']['INR']\n        logger.info(f\"Successfully fetched exchange rate: 1 USD = {rate} INR\")\n        return rate\n    except requests.exceptions.RequestException as e:\n        logger.error(f\"Error fetching exchange rate: {e}\")\n        return None\n    except KeyError as e:\n        logger.error(f\"Error parsing exchange rate data: {e}\")\n        return None\n\ndef send_email(rate):\n    \"\"\"Send email with current exchange rate\"\"\"\n    try:\n        # Get email configuration from environment variables\n        email_address = os.getenv('EMAIL_ADDRESS')\n        email_password = os.getenv('EMAIL_PASSWORD')\n        recipient_email = os.getenv('RECIPIENT_EMAIL', email_address)\n        \n        if not email_address or not email_password:\n            logger.error(\"Email credentials not found in environment variables\")\n            return False\n            \n        msg = MIMEMultipart()\n        msg['From'] = email_address\n        msg['To'] = recipient_email\n        msg['Subject'] = f'Daily USD to INR Exchange Rate - {datetime.now().strftime(\"%Y-%m-%d\")}'\n        \n        # Create HTML email body\n        body = f\"\"\"\n        <html>\n        <body>\n        <h2>Daily Exchange Rate Update</h2>\n        <p>Hello,</p>\n        <p>Here's today's exchange rate:</p>\n        <div style=\"background-color: #f0f8ff; padding: 15px; border-radius: 5px; margin: 10px 0;\">\n            <h3 style=\"color: #2c5aa0;\">1 USD = {rate:.4f} INR</h3>\n        </div>\n        <p>Date: {datetime.now().strftime(\"%B %d, %Y at %I:%M %p\")}</p>\n        <p>This is an automated email from your currency tracker.</p>\n        </body>\n        </html>\n        \"\"\"\n        \n        msg.attach(MIMEText(body, 'html'))\n\n        server = smtplib.SMTP('smtp.gmail.com', 587)\n        server.starttls()\n        server.login(email_address, email_password)\n        server.send_message(msg)\n        server.quit()\n        \n        logger.info(f\"Email sent successfully to {recipient_email}\")\n        return True\n        \n    except Exception as e:\n        logger.error(f\"Error sending email: {e}\")\n        return False\n\ndef job():\n    \"\"\"Main job function to get rate and send email\"\"\"\n    logger.info(\"Starting daily exchange rate job\")\n    rate = get_exchange_rate()\n    \n    if rate is not None:\n        success = send_email(rate)\n        if success:\n            logger.info(\"Daily exchange rate job completed successfully\")\n        else:\n            logger.error(\"Failed to send email\")\n    else:\n        logger.error(\"Failed to fetch exchange rate\")\n\n# Schedule the job for weekdays at 8:00 AM\nschedule.every().monday.at(\"08:00\").do(job)\nschedule.every().tuesday.at(\"08:00\").do(job)\nschedule.every().wednesday.at(\"08:00\").do(job)\nschedule.every().thursday.at(\"08:00\").do(job)\nschedule.every().friday.at(\"08:00\").do(job)\n\nlogger.info(\"Exchange rate scheduler started. Will send emails on weekdays at 8:00 AM\")\n\n# Main loop\ntry:\n    while True:\n        schedule.run_pending()\n        time.sleep(60)  # Check every minute instead of every second\nexcept KeyboardInterrupt:\n    logger.info(\"Scheduler stopped by user\")\nexcept Exception as e:\n    logger.error(f\"Unexpected error: {e}\")"
  }
 ],
 "metadata": {
  "kernelspec": {
   "display_name": "Python 3",
   "language": "python",
   "name": "python3"
  },
  "language_info": {
   "codemirror_mode": {
    "name": "ipython",
    "version": 3
   },
   "file_extension": ".py",
   "mimetype": "text/x-python",
   "name": "python",
   "nbconvert_exporter": "python",
   "pygments_lexer": "ipython3",
   "version": "3.10.10"
  },
  "orig_nbformat": 4
 },
 "nbformat": 4,
 "nbformat_minor": 2
}